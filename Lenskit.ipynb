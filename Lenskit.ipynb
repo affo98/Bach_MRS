{
 "cells": [
  {
   "cell_type": "code",
   "execution_count": null,
   "metadata": {},
   "outputs": [],
   "source": [
    "from lenskit.datasets import ML100K\n",
    "from lenskit import batch, topn, util\n",
    "from lenskit import crossfold as xf\n",
    "from lenskit.algorithms.als import ImplicitMF\n",
    "from lenskit.algorithms.svd import BiasedSVD\n",
    "from lenskit.algorithms.funksvd import FunkSVD\n",
    "from lenskit.algorithms import Recommender, als, item_knn, user_knn\n",
    "from lenskit.algorithms.basic import Popular, Bias\n",
    "from lenskit import topn\n",
    "import pandas as pd\n",
    "%matplotlib inline\n",
    "import scipy.sparse as sp\n",
    "import numpy as np\n",
    "import pickle "
   ]
  },
  {
   "cell_type": "code",
   "execution_count": null,
   "metadata": {},
   "outputs": [],
   "source": [
    "## Load Scipy Matrices\n",
    "ratingAll = sp.load_npz('UserItemMatrix.npz')\n",
    "ratingTrain = sp.load_npz('TrainUserItemMatrix.npz')\n",
    "ratingValid = sp.load_npz('ValidationUserItemMatrix.npz')\n",
    "ratingTest = sp.load_npz('TestUserItemMatrix.npz')\n",
    "\n",
    "## Load the LookUp Dictionaries\n",
    "songToIndex = pickle.load(open('songIdToIndex.p','rb'))\n",
    "songIndexToId = pickle.load(open('songIndexToId.p','rb'))\n",
    "DFLookUp = pd.DataFrame.from_dict(songIndexToId, orient='index')"
   ]
  },
  {
   "cell_type": "code",
   "execution_count": null,
   "metadata": {},
   "outputs": [],
   "source": [
    "## Create Train, Validation and Test from the Scipy Matrices in DF format with columns user, item and rating\n",
    "listOfListsTrain = []\n",
    "for i in range(ratingTrain.shape[0]-900000):\n",
    "    for j in ratingTrain[i].nonzero()[1].tolist():\n",
    "        listOfListsTrain.append([i, j])\n",
    "train = pd.DataFrame(listOfListsTrain, columns=['user', 'item'])\n",
    "train['rating'] = 1\n",
    "\n",
    "listOfListsValidation = []\n",
    "for i in range(ratingValid.shape[0]-990000):\n",
    "    for j in ratingTest[i].nonzero()[1].tolist():\n",
    "        listOfListsValidation.append([i, j])\n",
    "validation = pd.DataFrame(listOfListsValidation, columns=['user', 'item'])\n",
    "validation['rating'] = 1\n",
    "\n",
    "listOfListsTest = []\n",
    "for i in range(ratingTest.shape[0]-990000):\n",
    "    for j in ratingTest[i].nonzero()[1].tolist():\n",
    "        listOfListsTest.append([i, j])\n",
    "test = pd.DataFrame(listOfListsTest, columns=['user', 'item'])\n",
    "test['rating'] = 1\n",
    "\n",
    "\n"
   ]
  },
  {
   "cell_type": "code",
   "execution_count": null,
   "metadata": {},
   "outputs": [],
   "source": [
    "## Fit the model\n",
    "\n",
    "algo = Recommender.adapt(ImplicitMF(features=4)) # Required by Lenskit Library\n",
    "algo.fit(train) # Fit The model\n"
   ]
  },
  {
   "cell_type": "code",
   "execution_count": null,
   "metadata": {},
   "outputs": [],
   "source": [
    "# Get recommendations for a single user\n",
    "rec_u_i = algo.recommend(train['user'].unique()[2], 1)\n",
    "#rec_u_i = algo.predict_for_user(train['user'].unique()[2], [1,2])\n",
    "rec_u_i"
   ]
  },
  {
   "cell_type": "code",
   "execution_count": null,
   "metadata": {},
   "outputs": [],
   "source": [
    "## Map Recommendation Index to Song ID and retrieve meta data from DFLookUp\n",
    "user_i_playlist_recommendations = []\n",
    "for i in rec_u_i['item'].tolist():\n",
    "    user_i_playlist_recommendations.append(DFLookUp.loc[i].to_dict())"
   ]
  },
  {
   "cell_type": "code",
   "execution_count": null,
   "metadata": {},
   "outputs": [],
   "source": [
    "user_i_playlist_recommendations"
   ]
  },
  {
   "cell_type": "code",
   "execution_count": null,
   "metadata": {},
   "outputs": [],
   "source": [
    "# Run through all users to get recommendations\n",
    "recs = {}\n",
    "for user in train['user'].unique(): \n",
    "    user_recs = algo.recommend(user, 2)\n",
    "    recs[user] = user_recs"
   ]
  },
  {
   "cell_type": "code",
   "execution_count": null,
   "metadata": {},
   "outputs": [],
   "source": [
    "## Map Recommendation Index to Song ID and retrieve meta data from DFLookUp\n",
    "user_i_playlist_recommendations = []\n",
    "for i in rec_u_i['item'].tolist():\n",
    "    user_i_playlist_recommendations.append(DFLookUp.loc[i].to_dict())"
   ]
  },
  {
   "cell_type": "code",
   "execution_count": null,
   "metadata": {},
   "outputs": [],
   "source": [
    "# Evaluation\n",
    "# evaluate the recommender\n",
    "print(topn.precision(rec_u_i, train[train['user']==0], k=10))"
   ]
  }
 ],
 "metadata": {
  "kernelspec": {
   "display_name": "Python 3",
   "language": "python",
   "name": "python3"
  },
  "language_info": {
   "codemirror_mode": {
    "name": "ipython",
    "version": 3
   },
   "file_extension": ".py",
   "mimetype": "text/x-python",
   "name": "python",
   "nbconvert_exporter": "python",
   "pygments_lexer": "ipython3",
   "version": "3.10.4"
  },
  "orig_nbformat": 4
 },
 "nbformat": 4,
 "nbformat_minor": 2
}
